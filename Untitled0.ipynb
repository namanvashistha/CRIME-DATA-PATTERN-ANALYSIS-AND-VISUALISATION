{
  "nbformat": 4,
  "nbformat_minor": 0,
  "metadata": {
    "colab": {
      "name": "Untitled0.ipynb",
      "version": "0.3.2",
      "provenance": [],
      "private_outputs": true,
      "collapsed_sections": [],
      "include_colab_link": true
    },
    "kernelspec": {
      "name": "python3",
      "display_name": "Python 3"
    },
    "accelerator": "GPU"
  },
  "cells": [
    {
      "cell_type": "markdown",
      "metadata": {
        "id": "view-in-github",
        "colab_type": "text"
      },
      "source": [
        "<a href=\"https://colab.research.google.com/github/namanvashistha/minor1/blob/hritik/Untitled0.ipynb\" target=\"_parent\"><img src=\"https://colab.research.google.com/assets/colab-badge.svg\" alt=\"Open In Colab\"/></a>"
      ]
    },
    {
      "cell_type": "code",
      "metadata": {
        "id": "9ojCZW8D8XZ5",
        "colab_type": "code",
        "colab": {}
      },
      "source": [
        "#hritik aggarwal\n",
        "import numpy as np\n",
        "dim=2\n",
        "rows = 180\n",
        "cols = 180\n",
        "np.random.seed(0)\n",
        "## initializing weight matrix with random weights\n",
        "weight_matrix = np.random.rand(2,2)\n",
        "datafile = \"spiral.txt\" \n",
        "#data_x = np.loadtxt(datafile,delimiter=',',usecols=range(0,1))\n",
        "f=open('spiral.txt','r').readlines()\n",
        "w=f[0].split()\n",
        "print(type(w[0]))\n",
        "\n",
        "#list1=[float(x) for x in l1]\n",
        "\n",
        "#print(data_x)"
      ],
      "execution_count": 0,
      "outputs": []
    },
    {
      "cell_type": "code",
      "metadata": {
        "id": "QZZHjSUp21hA",
        "colab_type": "code",
        "colab": {}
      },
      "source": [
        "#sarthak agarwal"
      ],
      "execution_count": 0,
      "outputs": []
    }
  ]
}