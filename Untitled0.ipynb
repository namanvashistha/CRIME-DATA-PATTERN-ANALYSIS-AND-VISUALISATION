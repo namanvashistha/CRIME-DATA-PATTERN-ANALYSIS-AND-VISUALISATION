{
  "nbformat": 4,
  "nbformat_minor": 0,
  "metadata": {
    "colab": {
      "name": "Untitled0.ipynb",
      "version": "0.3.2",
      "provenance": [],
      "private_outputs": true,
      "collapsed_sections": [],
      "include_colab_link": true
    },
    "kernelspec": {
      "name": "python3",
      "display_name": "Python 3"
    },
    "accelerator": "GPU"
  },
  "cells": [
    {
      "cell_type": "markdown",
      "metadata": {
        "id": "view-in-github",
        "colab_type": "text"
      },
      "source": [
        "<a href=\"https://colab.research.google.com/github/namanvashistha/minor1/blob/hritik/Untitled0.ipynb\" target=\"_parent\"><img src=\"https://colab.research.google.com/assets/colab-badge.svg\" alt=\"Open In Colab\"/></a>"
      ]
    },
    {
      "cell_type": "code",
      "metadata": {
        "id": "9ojCZW8D8XZ5",
        "colab_type": "code",
        "colab": {}
      },
      "source": [
        "import numpy as np\n",
        "import matplotlib.pyplot as plt\n",
        "def euclid(a,b):\n",
        "  sum1=0.0\n",
        "  sum2=0.0\n",
        "  sum1= (a[0][0]-b[0])*(a[0][0]-b[0])+(a[0][1]-b[1])*(a[0][1]-b[1])\n",
        "  sum2= (a[1][0]-b[0])*(a[1][0]-b[0])+(a[1][1]-b[1])*(a[1][1]-b[1])\n",
        "  #print(sum1,sum2)\n",
        "  #print(sum2,\" \",sum1)\n",
        "  if sum2 <= sum1:\n",
        "    return (1==1)\n",
        " \n",
        "  return (1==2)\n",
        "  \n",
        "#===============================================================\n",
        "def main():\n",
        "  dim=2\n",
        "  rows = 180\n",
        "  cols = 180\n",
        "  np.random.seed(0)\n",
        "  ## initializing weight matrix with random weights\n",
        "  w = np.random.rand(2,2)\n",
        "  #print(w)\n",
        "  ## load the data from a file\n",
        "  datafile = \"spiral.txt\" #destination of a file\n",
        "  f=open('spiral.txt','r').readlines()\n",
        "  N= len(f)\n",
        "  T=[]\n",
        "  #reading the file and store everything in list of lists\n",
        "  for i in range(N):\n",
        "    T.append(f[i].split())\n",
        "  Y=[]\n",
        "  for i in range(N):\n",
        "    Y.append([float(i) for i in T[i]])\n",
        "  #initialize alpha the learnng rate be 0.5\n",
        "  learning_rate = 0.5\n",
        "  #print(weight_matrix)\n",
        "  for i in range(N):\n",
        "    learning_rate = (1 - (i*1.0)/N)*learning_rate\n",
        "    I = [Y[i][0],Y[i][1]]\n",
        "    if euclid(w,I):\n",
        "      w[1][0]= w[1][0]+learning_rate*(I[0]-w[1][0])\n",
        "      w[1][1]= w[1][1]+learning_rate*(I[1]-w[1][1])\n",
        "    else:\n",
        "      w[0][0]= w[0][0]+learning_rate*(I[0]-w[0][0])\n",
        "      w[0][1]= w[0][1]+learning_rate*(I[1]-w[0][1])\n",
        "  #initializing U-matrix here  \n",
        "  u_matrix = np.arange(32400).reshape(180,180)\n",
        "  for i in range(180):\n",
        "    for j in range(180):\n",
        "      I = [i,j]\n",
        "      if(euclid(w,I)):\n",
        "        u_matrix[i][j]=0\n",
        "      else:\n",
        "        u_matrix[i][j]=1\n",
        "  plt.imshow(u_matrix, cmap='gray')  # black = close = clusters\n",
        "  plt.show()\n",
        "  \n",
        "      #print(\"A\")\n",
        "if __name__==\"__main__\":\n",
        "  main()\n",
        " "
      ],
      "execution_count": 0,
      "outputs": []
    },
    {
      "cell_type": "code",
      "metadata": {
        "id": "QZZHjSUp21hA",
        "colab_type": "code",
        "colab": {}
      },
      "source": [
        "#sarthak agarwal"
      ],
      "execution_count": 0,
      "outputs": []
    }
  ]
}